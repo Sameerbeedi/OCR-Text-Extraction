{
 "cells": [
  {
   "cell_type": "code",
   "execution_count": 1,
   "metadata": {},
   "outputs": [],
   "source": [
    "import pytesseract\n",
    "from PIL import Image\n",
    "import cv2 as cv\n",
    "\n"
   ]
  },
  {
   "cell_type": "code",
   "execution_count": 2,
   "metadata": {},
   "outputs": [],
   "source": [
    "image = cv.imread(\"data/e.jpg\")\n",
    "base_image = image.copy()"
   ]
  },
  {
   "cell_type": "code",
   "execution_count": 3,
   "metadata": {},
   "outputs": [
    {
     "data": {
      "text/plain": [
       "True"
      ]
     },
     "execution_count": 3,
     "metadata": {},
     "output_type": "execute_result"
    }
   ],
   "source": [
    "inverted = cv.bitwise_not(image)\n",
    "cv.imwrite(\"temp/inverted3.jpg\",inverted)"
   ]
  },
  {
   "cell_type": "code",
   "execution_count": 4,
   "metadata": {},
   "outputs": [
    {
     "data": {
      "text/plain": [
       "True"
      ]
     },
     "execution_count": 4,
     "metadata": {},
     "output_type": "execute_result"
    }
   ],
   "source": [
    "gray = cv.cvtColor(image,cv.COLOR_BGR2GRAY)\n",
    "cv.imwrite(\"temp/gray3.jpg\",gray)"
   ]
  },
  {
   "cell_type": "code",
   "execution_count": 5,
   "metadata": {},
   "outputs": [
    {
     "data": {
      "text/plain": [
       "True"
      ]
     },
     "execution_count": 5,
     "metadata": {},
     "output_type": "execute_result"
    }
   ],
   "source": [
    "blur = cv.GaussianBlur(gray, (7,7),0)\n",
    "cv.imwrite(\"temp/blur3.jpg\",blur)"
   ]
  },
  {
   "cell_type": "code",
   "execution_count": 6,
   "metadata": {},
   "outputs": [
    {
     "data": {
      "text/plain": [
       "True"
      ]
     },
     "execution_count": 6,
     "metadata": {},
     "output_type": "execute_result"
    }
   ],
   "source": [
    "thresh = cv.threshold(blur,0,255,cv.THRESH_BINARY_INV + cv.THRESH_OTSU)[1]\n",
    "cv.imwrite(\"temp/thresh3.jpg\",thresh)   "
   ]
  },
  {
   "cell_type": "code",
   "execution_count": 7,
   "metadata": {},
   "outputs": [
    {
     "data": {
      "text/plain": [
       "True"
      ]
     },
     "execution_count": 7,
     "metadata": {},
     "output_type": "execute_result"
    }
   ],
   "source": [
    "kernel = cv.getStructuringElement(cv.MORPH_OPEN,(3,13))\n",
    "cv.imwrite(\"temp/kernal3.jpg\",kernel) "
   ]
  },
  {
   "cell_type": "code",
   "execution_count": 8,
   "metadata": {},
   "outputs": [
    {
     "data": {
      "text/plain": [
       "True"
      ]
     },
     "execution_count": 8,
     "metadata": {},
     "output_type": "execute_result"
    }
   ],
   "source": [
    "dialate = cv.dilate(thresh,kernel,iterations=1)\n",
    "cv.imwrite(\"temp/dialate3.jpg\",dialate) "
   ]
  },
  {
   "cell_type": "code",
   "execution_count": 9,
   "metadata": {},
   "outputs": [
    {
     "data": {
      "text/plain": [
       "True"
      ]
     },
     "execution_count": 9,
     "metadata": {},
     "output_type": "execute_result"
    }
   ],
   "source": [
    "cnts = cv.findContours(dialate,cv.RETR_EXTERNAL,cv.CHAIN_APPROX_SIMPLE)\n",
    "cnts = cnts[0] if len(cnts)==2 else cnts[1]\n",
    "cnts = sorted(cnts, key = lambda x : cv.boundingRect(x)[0])\n",
    "results = []\n",
    "for c in cnts :\n",
    "    x,y,w,h = cv.boundingRect(c)\n",
    "    if h >200 and w >10:\n",
    "        roi = image[y:y+h,x:x+w]\n",
    "        cv.imwrite(\"temp/roi.png\",roi)\n",
    "        cv.rectangle(image,(x,y),(x+w,y+h),(0,0,255),2)\n",
    "        ocr_result = pytesseract.image_to_string(roi)\n",
    "        \n",
    "        \n",
    "cv.imwrite(\"temp/b_box3.png\",image) "
   ]
  },
  {
   "cell_type": "code",
   "execution_count": 10,
   "metadata": {},
   "outputs": [
    {
     "name": "stdout",
     "output_type": "stream",
     "text": [
      "Z91Z776001# | 4203S eqopy\n",
      "\n",
      "\n"
     ]
    }
   ],
   "source": [
    "print(ocr_result)\n"
   ]
  },
  {
   "cell_type": "code",
   "execution_count": 11,
   "metadata": {},
   "outputs": [
    {
     "name": "stdout",
     "output_type": "stream",
     "text": [
      "Extracted Expiry Date: No expiry date found\n"
     ]
    }
   ],
   "source": [
    "import re \n",
    "\n",
    "# Define a regex pattern for dates (MM/YYYY, DD/MM/YYYY, etc.)\n",
    "date_pattern = r'(\\b\\d{2}/\\d{2}/\\d{4}\\b|\\b\\d{2}/\\d{4}\\b|\\b\\d{2}-\\d{2}-\\d{4}\\b|\\b\\d{2}-\\d{4}\\b)'\n",
    "expiry_date = re.findall(date_pattern, ocr_result)\n",
    "    \n",
    "    \n",
    "    # Output the extracted expiry date or a message if not found\n",
    "if expiry_date:\n",
    "    print(f\"Extracted Expiry Date: {expiry_date[0]}\")\n",
    "else:\n",
    "    print(\"Extracted Expiry Date: No expiry date found\")\n"
   ]
  }
 ],
 "metadata": {
  "kernelspec": {
   "display_name": "Python 3",
   "language": "python",
   "name": "python3"
  },
  "language_info": {
   "codemirror_mode": {
    "name": "ipython",
    "version": 3
   },
   "file_extension": ".py",
   "mimetype": "text/x-python",
   "name": "python",
   "nbconvert_exporter": "python",
   "pygments_lexer": "ipython3",
   "version": "3.9.13"
  }
 },
 "nbformat": 4,
 "nbformat_minor": 2
}
